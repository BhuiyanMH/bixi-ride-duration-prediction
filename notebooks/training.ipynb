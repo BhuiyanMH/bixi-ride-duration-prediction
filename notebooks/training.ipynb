{
 "cells": [
  {
   "cell_type": "code",
   "execution_count": null,
   "metadata": {},
   "outputs": [],
   "source": [
    "import mlflow\n",
    "import os\n",
    "import pandas as pd\n",
    "import haversine as hs\n",
    "\n",
    "from sklearn.feature_extraction import DictVectorizer\n",
    "from sklearn.linear_model import Lasso\n",
    "from sklearn.metrics import mean_squared_error"
   ]
  },
  {
   "cell_type": "code",
   "execution_count": null,
   "metadata": {},
   "outputs": [],
   "source": [
    "# setup mlflow \n",
    "os.environ[\"AWS_PROFILE\"] = \"default\"\n",
    "TRACKING_SERVER_HOST = os.environ.get(\"TRACKING_SERVER_HOST\")\n",
    "mlflow.set_tracking_uri(f\"http://{TRACKING_SERVER_HOST}:5000\")"
   ]
  },
  {
   "cell_type": "code",
   "execution_count": null,
   "metadata": {},
   "outputs": [],
   "source": [
    "def read_data(path: str, date_columns: list[int], header_col:int = 0) -> pd.DataFrame:\n",
    "    return pd.read_csv(path, header=header_col, parse_dates=date_columns)"
   ]
  },
  {
   "cell_type": "code",
   "execution_count": null,
   "metadata": {},
   "outputs": [],
   "source": [
    "def preprocess_data(ride_df: pd.DataFrame, station_df: pd.DataFrame)-> pd.DataFrame:\n",
    "    \n",
    "    # merge to get the start station details\n",
    "    start_station_df = ride_df.merge(station_df, left_on=\"emplacement_pk_start\", right_on=\"pk\", how=\"inner\")\n",
    "    # rename the lattitude and longitude of the start station\n",
    "    start_station_df.rename(columns={\"latitude\":\"st_lattitude\", \"longitude\":\"st_longitude\"}, inplace=True)\n",
    "    # filter out the unneccesary columns\n",
    "    start_station_df = start_station_df[[\"emplacement_pk_start\", \"emplacement_pk_end\", \"duration_sec\", \"is_member\", \"st_lattitude\", \"st_longitude\"]]\n",
    "    \n",
    "    # merge to get the end stations detailes\n",
    "    end_station_df = start_station_df.copy().merge(station_df, left_on=\"emplacement_pk_end\", right_on=\"pk\", how=\"inner\")\n",
    "    # rename the lattitude and longitude of the start station\n",
    "    end_station_df.rename(columns={\"latitude\":\"end_lattitude\", \"longitude\":\"end_longitude\"}, inplace=True)\n",
    "    # filter out the unneccesary columns\n",
    "    end_station_df = end_station_df[[\"emplacement_pk_start\", \"emplacement_pk_end\", \"st_lattitude\", \"st_longitude\", \"end_lattitude\", \"end_longitude\", \"is_member\", \"duration_sec\"]]\n",
    "    \n",
    "    # drop the rows with missing values\n",
    "    end_station_df.dropna(inplace=True)\n",
    "    \n",
    "    # calculate the distance of the trip \n",
    "    end_station_df[\"distance_km\"] = end_station_df.apply(lambda row: hs.haversine((row[\"st_lattitude\"], row[\"st_longitude\"]), (row[\"end_lattitude\"], row[\"end_longitude\"]), unit=\"km\"), axis=1)\n",
    "    \n",
    "    # create a pair with start and end station\n",
    "    end_station_df[\"ride_stations\"] = end_station_df[[\"emplacement_pk_start\", \"emplacement_pk_end\"]].astype(str).apply(lambda x: '_'.join(x), axis=1)\n",
    "    # convert the duration to minute\n",
    "    end_station_df[\"duration_minute\"] = end_station_df[\"duration_sec\"]/60\n",
    "    \n",
    "    # select the final columns\n",
    "    processed_df = end_station_df[[\"ride_stations\", \"distance_km\", \"is_member\", \"duration_minute\"]]\n",
    "    # convert the categorical column to string\n",
    "    processed_df[\"is_member\"] = processed_df[\"is_member\"].astype(str)\n",
    "    \n",
    "    return processed_df"
   ]
  },
  {
   "cell_type": "code",
   "execution_count": null,
   "metadata": {},
   "outputs": [],
   "source": [
    "def generate_features(input_df: pd.DataFrame, target_column: str, vectorizer: DictVectorizer, fit_vectorizer = True):\n",
    "    \n",
    "    feature_columns = input_df.columns.to_list()\n",
    "    feature_columns.remove(target_column)\n",
    "    # crate a data frame with train columns\n",
    "    feature_df = input_df[feature_columns]\n",
    "    \n",
    "    # convert the data frame as a dictionary \n",
    "    feature_dicts = feature_df.to_dict(orient='records')\n",
    "    # vectorize the training data\n",
    "\n",
    "    if fit_vectorizer:\n",
    "        X = vectorizer.fit_transform(feature_dicts)\n",
    "    else:\n",
    "        X = vectorizer.transform(feature_dicts)\n",
    "    \n",
    "    y = input_df[target_column].values\n",
    "    \n",
    "    return (vectorizer, X, y)"
   ]
  },
  {
   "cell_type": "code",
   "execution_count": null,
   "metadata": {},
   "outputs": [],
   "source": [
    "def build_model(X, y, alpha):\n",
    "    \n",
    "    # initialize model\n",
    "    lasso_regressor = Lasso(alpha)\n",
    "    \n",
    "    # perform training\n",
    "    lasso_regressor.fit(X, y)\n",
    "    \n",
    "    return lasso_regressor"
   ]
  },
  {
   "cell_type": "code",
   "execution_count": null,
   "metadata": {},
   "outputs": [],
   "source": [
    "def train_and_register_model(train_ride_path: str, \n",
    "                             train_station_path: str,\n",
    "                             valid_ride_path: str,\n",
    "                             valid_station_path: str,\n",
    "                             vectorizer: str,\n",
    "                             exp_name: str=\"bixi_ride_duration_prediction\", \n",
    "                             developer_name: str=\"Mahmudul Hasan Bhuiyan\"):\n",
    "    \n",
    "    # read train data\n",
    "    print(f\"Reading training rides data from: {train_ride_path}\")\n",
    "    train_ride_df = read_data(train_ride_path, [0, 2], 0)\n",
    "    # sample a small portion of the rides to reduce runtime\n",
    "    train_ride_df = train_ride_df.sample(frac=0.1, random_state=1, ignore_index=True)\n",
    "    print(f\"Length of training ride df: {len(train_ride_df)}\")\n",
    "    \n",
    "    print(f\"Reading training stations data from: {train_station_path}\")\n",
    "    train_stations_df = read_data(train_station_path, [], 0)\n",
    "    print(f\"Length of training stations df: {len(train_stations_df)}\")\n",
    "    \n",
    "    # read validation data\n",
    "    print(f\"Reading validation rides data from: {valid_ride_path}\")\n",
    "    valid_ride_df = read_data(valid_ride_path, [0, 2], 0)\n",
    "    # sample a small portion of the rides to reduce runtime\n",
    "    valid_ride_df = valid_ride_df.sample(frac=0.1, random_state=1, ignore_index=True)\n",
    "    print(f\"Length of validation  ride df: {len(valid_ride_df)}\")\n",
    "    \n",
    "    print(f\"Reading validation stations data from: {valid_station_path}\")\n",
    "    valid_stations_df = read_data(valid_station_path, [], 0)\n",
    "    print(f\"Length of train stations df: {len(valid_stations_df)}\")\n",
    "    \n",
    "    \n",
    "    # preprocess data\n",
    "    print(\"Preprocessing data\")\n",
    "    train_preprocessed_df = preprocess_data(train_ride_df, train_stations_df)\n",
    "    print(f\"Length of training preprocessed df: {len(train_preprocessed_df)}\")\n",
    "    \n",
    "    valid_preprocessed_df = preprocess_data(valid_ride_df, valid_stations_df)\n",
    "    print(f\"Length of validation preprocessed df: {len(valid_preprocessed_df)}\")\n",
    "    \n",
    "    \n",
    "    # generate features\n",
    "    print(\"Generating features\")\n",
    "    \n",
    "    dict_vectorizer, X_train, y_train = generate_features(input_df=train_preprocessed_df, \n",
    "                                                          target_column=\"duration_minute\", \n",
    "                                                          vectorizer=vectorizer)\n",
    "    dict_vectorizer, X_val, y_val = generate_features(input_df=valid_preprocessed_df,\n",
    "                                                      target_column=\"duration_minute\",\n",
    "                                                      vectorizer=dict_vectorizer,\n",
    "                                                      fit_vectorizer = False)\n",
    "    \n",
    "    \n",
    "    with mlflow.start_run():\n",
    "        \n",
    "        # set the experiment name\n",
    "        mlflow.set_experiment(exp_name)\n",
    "        mlflow.set_tag(\"developer\", developer_name)\n",
    "        \n",
    "        # log the parameters in mlflow\n",
    "        mlflow.log_param(\"train-ride-data-path\", train_ride_path)\n",
    "        mlflow.log_param(\"train-stations-data-path\", train_station_path)\n",
    "        mlflow.log_param(\"valid-ride-data-path\", valid_ride_path)\n",
    "        mlflow.log_param(\"valid-stations-data-path\", valid_station_path)\n",
    "\n",
    "        alpha = 0.1\n",
    "        mlflow.log_param(\"alpha\", alpha)\n",
    "        \n",
    "        print(\"Building the model\")\n",
    "        # build model\n",
    "        model = build_model(X_train, y_train, alpha)\n",
    "        \n",
    "        # runnning prediction on the validation data\n",
    "        print(\"Evaluating model on the validation data\")\n",
    "        y_pred = model.predict(X_val)\n",
    "        \n",
    "        rmse = mean_squared_error(y_val, y_pred, squared=False)\n",
    "        mlflow.log_metric(\"rmse\", rmse)\n",
    "        print(f\"RMSE on the validation data: {rmse}\")\n",
    "        \n",
    "        # log the model and the artifact\n",
    "        mlflow.sklearn.log_model(model, artifact_path=\"models\")\n",
    "        print(\"Logged the model in artifacts\")\n",
    "        print(f\"Artifacts URI: '{mlflow.get_artifact_uri()}'\")\n",
    "\n",
    "# Perform the training\n",
    "train_ride_path = \"../data/2022-05-01/20220105_donnees_ouvertes.csv\"\n",
    "train_station_path = \"../data/2022-05-01/20220105_stations.csv\"\n",
    "valid_ride_path = \"../data/2022-06-01/20220106_donnees_ouvertes.csv\"\n",
    "valid_station_path = \"../data/2022-06-01/20220106_stations.csv\"\n",
    "vectorizer = DictVectorizer()\n",
    "\n",
    "train_and_register_model(train_ride_path, train_station_path, valid_ride_path, valid_station_path, vectorizer)"
   ]
  },
  {
   "cell_type": "markdown",
   "metadata": {},
   "source": [
    "# Validation"
   ]
  },
  {
   "cell_type": "code",
   "execution_count": null,
   "metadata": {},
   "outputs": [],
   "source": [
    "#Read data \n",
    "valid_ride_path = \"../data/2022-07-01/20220107_donnees_ouvertes.csv\"\n",
    "valid_stations_path = \"../data/2022-07-01/20220107_stations.csv\"\n",
    "valid_ride_df = read_data(valid_ride_path, [0, 2], 0)\n",
    "valid_stations_df = read_data(valid_stations_path, [], 0)\n",
    "print(f\"Length of ride df: {len(valid_ride_df)}\")\n",
    "print(f\"Length of stations df: {len(valid_stations_df)}\")"
   ]
  },
  {
   "cell_type": "code",
   "execution_count": null,
   "metadata": {},
   "outputs": [],
   "source": [
    "# Preprocessed data\n",
    "valid_preprocessed_df = preprocess_data(valid_ride_df, valid_stations_df)\n",
    "print(f\"Length of preprocessed  df: {len(valid_preprocessed_df)}\")\n",
    "valid_preprocessed_df.head(10)"
   ]
  },
  {
   "cell_type": "code",
   "execution_count": null,
   "metadata": {},
   "outputs": [],
   "source": [
    "# generate features\n",
    "valid_df = valid_preprocessed_df[['ride_stations', 'distance_km', 'is_member']]\n",
    "valid_dicts = valid_df.to_dict(orient='records')\n",
    "X_valid  = dict_vectorizer.transform(valid_dicts)\n",
    "y_valid = valid_preprocessed_df[\"duration_minute\"].values"
   ]
  },
  {
   "cell_type": "code",
   "execution_count": null,
   "metadata": {},
   "outputs": [],
   "source": [
    "# build model\n",
    "y_pred = model.predict(X_valid)\n",
    "valid_error = mean_squared_error(y_valid, y_pred, squared=False)\n",
    "print(f\"Validation error: {valid_error}\")"
   ]
  },
  {
   "cell_type": "code",
   "execution_count": null,
   "metadata": {},
   "outputs": [],
   "source": []
  }
 ],
 "metadata": {
  "kernelspec": {
   "display_name": "Python 3 (ipykernel)",
   "language": "python",
   "name": "python3"
  },
  "language_info": {
   "codemirror_mode": {
    "name": "ipython",
    "version": 3
   },
   "file_extension": ".py",
   "mimetype": "text/x-python",
   "name": "python",
   "nbconvert_exporter": "python",
   "pygments_lexer": "ipython3",
   "version": "3.9.12"
  }
 },
 "nbformat": 4,
 "nbformat_minor": 4
}
