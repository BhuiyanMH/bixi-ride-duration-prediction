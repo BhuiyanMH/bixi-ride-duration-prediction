{
 "cells": [
  {
   "cell_type": "code",
   "execution_count": 152,
   "metadata": {},
   "outputs": [],
   "source": [
    "import pandas as pd\n",
    "import haversine as hs\n",
    "\n",
    "from sklearn.feature_extraction import DictVectorizer\n",
    "from sklearn.linear_model import LinearRegression\n",
    "from sklearn.metrics import mean_squared_error"
   ]
  },
  {
   "cell_type": "code",
   "execution_count": 153,
   "metadata": {},
   "outputs": [],
   "source": [
    "def read_data(path: str, date_columns: list[int], header_col:int = 0) -> pd.DataFrame:\n",
    "    return pd.read_csv(path, header=header_col, parse_dates=date_columns)"
   ]
  },
  {
   "cell_type": "code",
   "execution_count": 154,
   "metadata": {},
   "outputs": [],
   "source": [
    "def preprocess_data(ride_df: pd.DataFrame, station_df: pd.DataFrame)-> pd.DataFrame:\n",
    "    # merge to get the start station details\n",
    "    start_station_df = ride_df.merge(station_df, left_on=\"emplacement_pk_start\", right_on=\"pk\", how=\"inner\")\n",
    "    # rename the lattitude and longitude of the start station\n",
    "    start_station_df.rename(columns={\"latitude\":\"st_lattitude\", \"longitude\":\"st_longitude\"}, inplace=True)\n",
    "    # filter out the unneccesary columns\n",
    "    start_station_df = start_station_df[[\"emplacement_pk_start\", \"emplacement_pk_end\", \"duration_sec\", \"is_member\", \"st_lattitude\", \"st_longitude\"]]\n",
    "    \n",
    "    # merge to get the end stations detailes\n",
    "    end_station_df = start_station_df.copy().merge(stations_df, left_on=\"emplacement_pk_end\", right_on=\"pk\", how=\"inner\")\n",
    "    # rename the lattitude and longitude of the start station\n",
    "    end_station_df.rename(columns={\"latitude\":\"end_lattitude\", \"longitude\":\"end_longitude\"}, inplace=True)\n",
    "    # filter out the unneccesary columns\n",
    "    end_station_df = end_station_df[[\"emplacement_pk_start\", \"emplacement_pk_end\", \"st_lattitude\", \"st_longitude\", \"end_lattitude\", \"end_longitude\", \"is_member\", \"duration_sec\"]]\n",
    "    \n",
    "    # drop the rows with missing values\n",
    "    end_station_df.dropna(inplace=True)\n",
    "    \n",
    "    # calculate the distance of the trip \n",
    "    end_station_df[\"distance_km\"] = end_station_df.apply(lambda row: hs.haversine((row[\"st_lattitude\"], row[\"st_longitude\"]), (row[\"end_lattitude\"], row[\"end_longitude\"]), unit=\"km\"), axis=1)\n",
    "    \n",
    "    # create a pair with start and end station\n",
    "    end_station_df[\"ride_stations\"] = end_station_df[[\"emplacement_pk_start\", \"emplacement_pk_end\"]].astype(str).apply(lambda x: '_'.join(x), axis=1)\n",
    "    # convert the duration to minute\n",
    "    end_station_df[\"duration_minute\"] = end_station_df[\"duration_sec\"]/60\n",
    "    \n",
    "    # select the final columns\n",
    "    processed_df = end_station_df[[\"ride_stations\", \"distance_km\", \"is_member\", \"duration_minute\"]]\n",
    "    # convert the categorical column to string\n",
    "    preprocessed_df[\"is_member\"] = preprocessed_df[\"is_member\"].astype(str)\n",
    "    \n",
    "    return processed_df"
   ]
  },
  {
   "cell_type": "code",
   "execution_count": 155,
   "metadata": {},
   "outputs": [],
   "source": [
    "def generate_features(input_df: pd.DataFrame, target_column: str) -> tuple[DictVectorizer]:\n",
    "    \n",
    "    train_columns = input_df.columns.to_list()\n",
    "    train_columns.remove(target_column)\n",
    "    # crate a data frame with train columns\n",
    "    train_df = input_df[train_columns]\n",
    "    \n",
    "    # convert the data frame as a dictionary \n",
    "    train_dicts = train_df.to_dict(orient='records')\n",
    "    # vectorize the training data\n",
    "    dict_vectorizer = DictVectorizer()\n",
    "    X = dict_vectorizer.fit_transform(train_dicts)\n",
    "    y = input_df[target_column].values\n",
    "    \n",
    "    return (dict_vectorizer, X, y)"
   ]
  },
  {
   "cell_type": "code",
   "execution_count": 156,
   "metadata": {},
   "outputs": [],
   "source": [
    "def build_model(X_train, y_train):\n",
    "    # initialize model\n",
    "    linear_regressor = LinearRegression()\n",
    "    # perform training\n",
    "    linear_regressor.fit(X_train, y_train)\n",
    "    \n",
    "    return linear_regressor"
   ]
  },
  {
   "cell_type": "markdown",
   "metadata": {},
   "source": [
    "# Training"
   ]
  },
  {
   "cell_type": "code",
   "execution_count": 157,
   "metadata": {},
   "outputs": [
    {
     "name": "stdout",
     "output_type": "stream",
     "text": [
      "Length of ride df: 1358198\n",
      "Length of stations df: 735\n"
     ]
    }
   ],
   "source": [
    "#Read data \n",
    "ride_path = \"../data/2022-06-01/20220106_donnees_ouvertes.csv\"\n",
    "stations_path = \"../data/2022-06-01/20220106_stations.csv\"\n",
    "ride_df = read_data(ride_path, [0, 2], 0)\n",
    "stations_df = read_data(stations_path, [], 0)\n",
    "print(f\"Length of ride df: {len(ride_df)}\")\n",
    "print(f\"Length of stations df: {len(stations_df)}\")"
   ]
  },
  {
   "cell_type": "code",
   "execution_count": 158,
   "metadata": {},
   "outputs": [
    {
     "name": "stdout",
     "output_type": "stream",
     "text": [
      "Length of preprocessed  df: 1358196\n"
     ]
    },
    {
     "data": {
      "text/html": [
       "<div>\n",
       "<style scoped>\n",
       "    .dataframe tbody tr th:only-of-type {\n",
       "        vertical-align: middle;\n",
       "    }\n",
       "\n",
       "    .dataframe tbody tr th {\n",
       "        vertical-align: top;\n",
       "    }\n",
       "\n",
       "    .dataframe thead th {\n",
       "        text-align: right;\n",
       "    }\n",
       "</style>\n",
       "<table border=\"1\" class=\"dataframe\">\n",
       "  <thead>\n",
       "    <tr style=\"text-align: right;\">\n",
       "      <th></th>\n",
       "      <th>ride_stations</th>\n",
       "      <th>distance_km</th>\n",
       "      <th>is_member</th>\n",
       "      <th>duration_minute</th>\n",
       "    </tr>\n",
       "  </thead>\n",
       "  <tbody>\n",
       "    <tr>\n",
       "      <th>0</th>\n",
       "      <td>9_1119</td>\n",
       "      <td>4.674871</td>\n",
       "      <td>1.0</td>\n",
       "      <td>16.183333</td>\n",
       "    </tr>\n",
       "    <tr>\n",
       "      <th>1</th>\n",
       "      <td>9_1119</td>\n",
       "      <td>4.674871</td>\n",
       "      <td>1.0</td>\n",
       "      <td>25.016667</td>\n",
       "    </tr>\n",
       "    <tr>\n",
       "      <th>2</th>\n",
       "      <td>75_1119</td>\n",
       "      <td>2.069513</td>\n",
       "      <td>1.0</td>\n",
       "      <td>11.466667</td>\n",
       "    </tr>\n",
       "    <tr>\n",
       "      <th>3</th>\n",
       "      <td>75_1119</td>\n",
       "      <td>2.069513</td>\n",
       "      <td>0.0</td>\n",
       "      <td>15.933333</td>\n",
       "    </tr>\n",
       "    <tr>\n",
       "      <th>4</th>\n",
       "      <td>75_1119</td>\n",
       "      <td>2.069513</td>\n",
       "      <td>0.0</td>\n",
       "      <td>15.983333</td>\n",
       "    </tr>\n",
       "    <tr>\n",
       "      <th>5</th>\n",
       "      <td>78_1119</td>\n",
       "      <td>1.955478</td>\n",
       "      <td>1.0</td>\n",
       "      <td>16.650000</td>\n",
       "    </tr>\n",
       "    <tr>\n",
       "      <th>6</th>\n",
       "      <td>78_1119</td>\n",
       "      <td>1.955478</td>\n",
       "      <td>0.0</td>\n",
       "      <td>17.150000</td>\n",
       "    </tr>\n",
       "    <tr>\n",
       "      <th>7</th>\n",
       "      <td>78_1119</td>\n",
       "      <td>1.955478</td>\n",
       "      <td>1.0</td>\n",
       "      <td>7.683333</td>\n",
       "    </tr>\n",
       "    <tr>\n",
       "      <th>8</th>\n",
       "      <td>78_1119</td>\n",
       "      <td>1.955478</td>\n",
       "      <td>1.0</td>\n",
       "      <td>17.116667</td>\n",
       "    </tr>\n",
       "    <tr>\n",
       "      <th>9</th>\n",
       "      <td>79_1119</td>\n",
       "      <td>1.228293</td>\n",
       "      <td>1.0</td>\n",
       "      <td>9.083333</td>\n",
       "    </tr>\n",
       "  </tbody>\n",
       "</table>\n",
       "</div>"
      ],
      "text/plain": [
       "  ride_stations  distance_km  is_member  duration_minute\n",
       "0        9_1119     4.674871        1.0        16.183333\n",
       "1        9_1119     4.674871        1.0        25.016667\n",
       "2       75_1119     2.069513        1.0        11.466667\n",
       "3       75_1119     2.069513        0.0        15.933333\n",
       "4       75_1119     2.069513        0.0        15.983333\n",
       "5       78_1119     1.955478        1.0        16.650000\n",
       "6       78_1119     1.955478        0.0        17.150000\n",
       "7       78_1119     1.955478        1.0         7.683333\n",
       "8       78_1119     1.955478        1.0        17.116667\n",
       "9       79_1119     1.228293        1.0         9.083333"
      ]
     },
     "execution_count": 158,
     "metadata": {},
     "output_type": "execute_result"
    }
   ],
   "source": [
    "# Preprocessed data\n",
    "preprocessed_df = preprocess_data(ride_df, stations_df)\n",
    "print(f\"Length of preprocessed df: {len(preprocessed_df)}\")\n",
    "preprocessed_df.head(10)"
   ]
  },
  {
   "cell_type": "code",
   "execution_count": 159,
   "metadata": {},
   "outputs": [],
   "source": [
    "# generate features\n",
    "dict_vectorizer, X_train, y_train = generate_features(preprocessed_df, \"duration_minute\")"
   ]
  },
  {
   "cell_type": "code",
   "execution_count": 160,
   "metadata": {},
   "outputs": [
    {
     "name": "stdout",
     "output_type": "stream",
     "text": [
      "Training error: 13.483320353503942\n"
     ]
    }
   ],
   "source": [
    "# build model\n",
    "model = build_model(X_train, y_train)\n",
    "y_pred = model.predict(X_train)\n",
    "train_error = mean_squared_error(y_train, y_pred, squared=False)\n",
    "print(f\"Training error: {train_error}\")"
   ]
  },
  {
   "cell_type": "markdown",
   "metadata": {},
   "source": [
    "# Validation"
   ]
  },
  {
   "cell_type": "code",
   "execution_count": 170,
   "metadata": {},
   "outputs": [
    {
     "name": "stdout",
     "output_type": "stream",
     "text": [
      "Length of ride df: 1486082\n",
      "Length of stations df: 735\n"
     ]
    }
   ],
   "source": [
    "#Read data \n",
    "valid_ride_path = \"../data/2022-07-01/20220107_donnees_ouvertes.csv\"\n",
    "valid_stations_path = \"../data/2022-07-01/20220107_stations.csv\"\n",
    "valid_ride_df = read_data(valid_ride_path, [0, 2], 0)\n",
    "valid_stations_df = read_data(valid_stations_path, [], 0)\n",
    "print(f\"Length of ride df: {len(valid_ride_df)}\")\n",
    "print(f\"Length of stations df: {len(valid_stations_df)}\")"
   ]
  },
  {
   "cell_type": "code",
   "execution_count": 171,
   "metadata": {},
   "outputs": [
    {
     "name": "stdout",
     "output_type": "stream",
     "text": [
      "Length of preprocessed  df: 1471959\n"
     ]
    },
    {
     "data": {
      "text/html": [
       "<div>\n",
       "<style scoped>\n",
       "    .dataframe tbody tr th:only-of-type {\n",
       "        vertical-align: middle;\n",
       "    }\n",
       "\n",
       "    .dataframe tbody tr th {\n",
       "        vertical-align: top;\n",
       "    }\n",
       "\n",
       "    .dataframe thead th {\n",
       "        text-align: right;\n",
       "    }\n",
       "</style>\n",
       "<table border=\"1\" class=\"dataframe\">\n",
       "  <thead>\n",
       "    <tr style=\"text-align: right;\">\n",
       "      <th></th>\n",
       "      <th>ride_stations</th>\n",
       "      <th>distance_km</th>\n",
       "      <th>is_member</th>\n",
       "      <th>duration_minute</th>\n",
       "    </tr>\n",
       "  </thead>\n",
       "  <tbody>\n",
       "    <tr>\n",
       "      <th>0</th>\n",
       "      <td>9_394</td>\n",
       "      <td>11.704230</td>\n",
       "      <td>0</td>\n",
       "      <td>76.350000</td>\n",
       "    </tr>\n",
       "    <tr>\n",
       "      <th>1</th>\n",
       "      <td>9_394</td>\n",
       "      <td>11.704230</td>\n",
       "      <td>1</td>\n",
       "      <td>52.350000</td>\n",
       "    </tr>\n",
       "    <tr>\n",
       "      <th>2</th>\n",
       "      <td>9_394</td>\n",
       "      <td>11.704230</td>\n",
       "      <td>1</td>\n",
       "      <td>45.300000</td>\n",
       "    </tr>\n",
       "    <tr>\n",
       "      <th>3</th>\n",
       "      <td>9_394</td>\n",
       "      <td>11.704230</td>\n",
       "      <td>1</td>\n",
       "      <td>82.400000</td>\n",
       "    </tr>\n",
       "    <tr>\n",
       "      <th>4</th>\n",
       "      <td>10_394</td>\n",
       "      <td>7.194953</td>\n",
       "      <td>0</td>\n",
       "      <td>36.883333</td>\n",
       "    </tr>\n",
       "    <tr>\n",
       "      <th>5</th>\n",
       "      <td>10_394</td>\n",
       "      <td>7.194953</td>\n",
       "      <td>0</td>\n",
       "      <td>36.966667</td>\n",
       "    </tr>\n",
       "    <tr>\n",
       "      <th>6</th>\n",
       "      <td>10_394</td>\n",
       "      <td>7.194953</td>\n",
       "      <td>1</td>\n",
       "      <td>97.200000</td>\n",
       "    </tr>\n",
       "    <tr>\n",
       "      <th>7</th>\n",
       "      <td>13_394</td>\n",
       "      <td>4.443990</td>\n",
       "      <td>1</td>\n",
       "      <td>95.983333</td>\n",
       "    </tr>\n",
       "    <tr>\n",
       "      <th>8</th>\n",
       "      <td>13_394</td>\n",
       "      <td>4.443990</td>\n",
       "      <td>0</td>\n",
       "      <td>25.233333</td>\n",
       "    </tr>\n",
       "    <tr>\n",
       "      <th>9</th>\n",
       "      <td>13_394</td>\n",
       "      <td>4.443990</td>\n",
       "      <td>1</td>\n",
       "      <td>19.500000</td>\n",
       "    </tr>\n",
       "  </tbody>\n",
       "</table>\n",
       "</div>"
      ],
      "text/plain": [
       "  ride_stations  distance_km  is_member  duration_minute\n",
       "0         9_394    11.704230          0        76.350000\n",
       "1         9_394    11.704230          1        52.350000\n",
       "2         9_394    11.704230          1        45.300000\n",
       "3         9_394    11.704230          1        82.400000\n",
       "4        10_394     7.194953          0        36.883333\n",
       "5        10_394     7.194953          0        36.966667\n",
       "6        10_394     7.194953          1        97.200000\n",
       "7        13_394     4.443990          1        95.983333\n",
       "8        13_394     4.443990          0        25.233333\n",
       "9        13_394     4.443990          1        19.500000"
      ]
     },
     "execution_count": 171,
     "metadata": {},
     "output_type": "execute_result"
    }
   ],
   "source": [
    "# Preprocessed data\n",
    "valid_preprocessed_df = preprocess_data(valid_ride_df, valid_stations_df)\n",
    "print(f\"Length of preprocessed  df: {len(valid_preprocessed_df)}\")\n",
    "valid_preprocessed_df.head(10)"
   ]
  },
  {
   "cell_type": "code",
   "execution_count": 172,
   "metadata": {},
   "outputs": [],
   "source": [
    "# generate features\n",
    "valid_df = valid_preprocessed_df[['ride_stations', 'distance_km', 'is_member']]\n",
    "valid_dicts = valid_df.to_dict(orient='records')\n",
    "X_valid  = dict_vectorizer.transform(valid_dicts)\n",
    "y_valid = valid_preprocessed_df[\"duration_minute\"].values"
   ]
  },
  {
   "cell_type": "code",
   "execution_count": 173,
   "metadata": {},
   "outputs": [
    {
     "name": "stdout",
     "output_type": "stream",
     "text": [
      "Validation error: 15.456442416672154\n"
     ]
    }
   ],
   "source": [
    "# build model\n",
    "y_pred = model.predict(X_valid)\n",
    "valid_error = mean_squared_error(y_valid, y_pred, squared=False)\n",
    "print(f\"Validation error: {valid_error}\")"
   ]
  },
  {
   "cell_type": "code",
   "execution_count": null,
   "metadata": {},
   "outputs": [],
   "source": []
  }
 ],
 "metadata": {
  "kernelspec": {
   "display_name": "Python 3 (ipykernel)",
   "language": "python",
   "name": "python3"
  },
  "language_info": {
   "codemirror_mode": {
    "name": "ipython",
    "version": 3
   },
   "file_extension": ".py",
   "mimetype": "text/x-python",
   "name": "python",
   "nbconvert_exporter": "python",
   "pygments_lexer": "ipython3",
   "version": "3.9.12"
  }
 },
 "nbformat": 4,
 "nbformat_minor": 2
}
